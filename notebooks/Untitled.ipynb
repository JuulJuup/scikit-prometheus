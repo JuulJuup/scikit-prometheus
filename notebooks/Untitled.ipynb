{
 "cells": [
  {
   "cell_type": "code",
   "execution_count": 20,
   "id": "d11eec5e-4a3d-4b7a-82cb-587324c907d7",
   "metadata": {},
   "outputs": [
    {
     "name": "stdout",
     "output_type": "stream",
     "text": [
      "The autoreload extension is already loaded. To reload it, use:\n",
      "  %reload_ext autoreload\n"
     ]
    }
   ],
   "source": [
    "%load_ext autoreload\n",
    "%autoreload 2\n",
    "\n",
    "from skprometheus.preprocessing import OneHotEncoder\n",
    "import numpy as np\n",
    "import pandas as pd"
   ]
  },
  {
   "cell_type": "code",
   "execution_count": 35,
   "id": "cf41a3d1-cb30-4f36-9119-861d7abf072c",
   "metadata": {},
   "outputs": [
    {
     "name": "stdout",
     "output_type": "stream",
     "text": [
      "feature: 0, category: 1\n",
      "feature: 0, category: 2\n",
      "feature: 0, category: 4\n",
      "feature: 0, category: 0\n",
      "feature: 0, category: 6\n",
      "feature: 1, category: 3\n",
      "feature: 1, category: 3\n",
      "feature: 1, category: 5\n",
      "feature: 1, category: 0\n",
      "feature: 1, category: 7\n",
      "feature: 2, category: 4\n",
      "feature: 2, category: 4\n",
      "feature: 2, category: 6\n",
      "feature: 2, category: 0\n",
      "feature: 2, category: 8\n",
      "feature: 3, category: 6\n",
      "feature: 3, category: 5\n",
      "feature: 3, category: 6\n",
      "feature: 3, category: 0\n",
      "feature: 3, category: 9\n"
     ]
    }
   ],
   "source": [
    "one_hot = OneHotEncoder(sparse=True, handle_unknown='ignore')\n",
    "X = np.array([\n",
    "    [1, 3, 4, 6],\n",
    "    [2, 3, 4, 5],\n",
    "    [4, 5, 6, 6],\n",
    "    [0, 0, 0, 0],\n",
    "    [6, 7, 8, 9]\n",
    "])\n",
    "\n",
    "one_hot.fit(X)\n",
    "a = one_hot.transform(X)"
   ]
  },
  {
   "cell_type": "code",
   "execution_count": 24,
   "id": "888e47f4-57ee-412c-bdb2-530a1b74e8f0",
   "metadata": {},
   "outputs": [
    {
     "name": "stdout",
     "output_type": "stream",
     "text": [
      "0 missing\n",
      "1 missing\n",
      "2 missing\n",
      "3 missing\n"
     ]
    }
   ],
   "source": [
    "one_hot.fit(pd.DataFrame(X))\n",
    "a = one_hot.transform(pd.DataFrame(X))"
   ]
  },
  {
   "cell_type": "code",
   "execution_count": null,
   "id": "820da8ef-d48a-4dfe-9ae0-f5f62741ede7",
   "metadata": {},
   "outputs": [],
   "source": []
  },
  {
   "cell_type": "code",
   "execution_count": null,
   "id": "94e97d9d-ee26-43f9-aa0e-9fbef5a6b94d",
   "metadata": {},
   "outputs": [],
   "source": []
  }
 ],
 "metadata": {
  "kernelspec": {
   "display_name": "Python 3 (ipykernel)",
   "language": "python",
   "name": "python3"
  },
  "language_info": {
   "codemirror_mode": {
    "name": "ipython",
    "version": 3
   },
   "file_extension": ".py",
   "mimetype": "text/x-python",
   "name": "python",
   "nbconvert_exporter": "python",
   "pygments_lexer": "ipython3",
   "version": "3.9.6"
  }
 },
 "nbformat": 4,
 "nbformat_minor": 5
}
