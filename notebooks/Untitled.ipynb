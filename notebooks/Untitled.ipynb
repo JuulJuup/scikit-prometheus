{
 "cells": [
  {
   "cell_type": "code",
   "execution_count": 1,
   "id": "2fadd360-1054-455c-a6f6-81482eacb895",
   "metadata": {},
   "outputs": [],
   "source": [
    "from skprometheus.preprocessing import OneHotEncoder\n",
    "import numpy as np\n",
    "from prometheus_client import REGISTRY"
   ]
  },
  {
   "cell_type": "code",
   "execution_count": null,
   "id": "e72a7845-ff7b-40be-a0f0-77f1b0733a95",
   "metadata": {},
   "outputs": [],
   "source": []
  },
  {
   "cell_type": "code",
   "execution_count": 3,
   "id": "e8e66347-07b2-4b60-a1d6-62b3a077bf02",
   "metadata": {},
   "outputs": [
    {
     "name": "stdout",
     "output_type": "stream",
     "text": [
      "3.0\n"
     ]
    },
    {
     "ename": "AssertionError",
     "evalue": "",
     "output_type": "error",
     "traceback": [
      "\u001b[0;31m---------------------------------------------------------------------------\u001b[0m",
      "\u001b[0;31mAssertionError\u001b[0m                            Traceback (most recent call last)",
      "Input \u001b[0;32mIn [3]\u001b[0m, in \u001b[0;36m<cell line: 17>\u001b[0;34m()\u001b[0m\n\u001b[1;32m     14\u001b[0m one_hot\u001b[38;5;241m.\u001b[39mtransform(X)\n\u001b[1;32m     15\u001b[0m \u001b[38;5;28;01massert\u001b[39;00m \u001b[38;5;124m'\u001b[39m\u001b[38;5;124mskprom_model_categorical\u001b[39m\u001b[38;5;124m'\u001b[39m \u001b[38;5;129;01min\u001b[39;00m [m\u001b[38;5;241m.\u001b[39mname \u001b[38;5;28;01mfor\u001b[39;00m m \u001b[38;5;129;01min\u001b[39;00m REGISTRY\u001b[38;5;241m.\u001b[39mcollect()]\n\u001b[0;32m---> 17\u001b[0m \u001b[38;5;28;01massert\u001b[39;00m REGISTRY\u001b[38;5;241m.\u001b[39mget_sample_value(\u001b[38;5;124m'\u001b[39m\u001b[38;5;124mskprom_model_categorical_total\u001b[39m\u001b[38;5;124m'\u001b[39m, {\u001b[38;5;124m'\u001b[39m\u001b[38;5;124mfeature\u001b[39m\u001b[38;5;124m'\u001b[39m: \u001b[38;5;124m'\u001b[39m\u001b[38;5;124m2\u001b[39m\u001b[38;5;124m'\u001b[39m, \u001b[38;5;124m'\u001b[39m\u001b[38;5;124mcategory\u001b[39m\u001b[38;5;124m'\u001b[39m: \u001b[38;5;124m'\u001b[39m\u001b[38;5;124m4\u001b[39m\u001b[38;5;124m'\u001b[39m}) \u001b[38;5;241m==\u001b[39m \u001b[38;5;241m3\u001b[39m\n\u001b[1;32m     18\u001b[0m \u001b[38;5;28;01massert\u001b[39;00m REGISTRY\u001b[38;5;241m.\u001b[39mget_sample_value(\u001b[38;5;124m'\u001b[39m\u001b[38;5;124mskprom_model_categorical_total\u001b[39m\u001b[38;5;124m'\u001b[39m, {\u001b[38;5;124m'\u001b[39m\u001b[38;5;124mfeature\u001b[39m\u001b[38;5;124m'\u001b[39m: \u001b[38;5;124m'\u001b[39m\u001b[38;5;124m3\u001b[39m\u001b[38;5;124m'\u001b[39m, \u001b[38;5;124m'\u001b[39m\u001b[38;5;124mcategory\u001b[39m\u001b[38;5;124m'\u001b[39m: \u001b[38;5;124m'\u001b[39m\u001b[38;5;124m9\u001b[39m\u001b[38;5;124m'\u001b[39m}) \u001b[38;5;241m==\u001b[39m \u001b[38;5;241m1\u001b[39m\n",
      "\u001b[0;31mAssertionError\u001b[0m: "
     ]
    }
   ],
   "source": [
    "one_hot = OneHotEncoder()\n",
    "X = np.array([\n",
    "    [1, 3, 4, 6],\n",
    "    [2, 3, 4, 5],\n",
    "    [4, 5, 4, 6],\n",
    "    [0, 0, 0, 0],\n",
    "    [6, 7, 8, 9]\n",
    "])\n",
    "\n",
    "\n",
    "\n",
    "one_hot.fit(X)\n",
    "one_hot.transform(X)\n",
    "assert 'skprom_model_categorical' in [m.name for m in REGISTRY.collect()]\n",
    "\n",
    "assert REGISTRY.get_sample_value('skprom_model_categorical_total', {'feature': '2', 'category': '4'}) == 3\n",
    "assert REGISTRY.get_sample_value('skprom_model_categorical_total', {'feature': '3', 'category': '9'}) == 1"
   ]
  },
  {
   "cell_type": "code",
   "execution_count": null,
   "id": "a7b912dc-95db-40a0-b66f-7b00e574950a",
   "metadata": {},
   "outputs": [],
   "source": []
  }
 ],
 "metadata": {
  "kernelspec": {
   "display_name": "Python 3 (ipykernel)",
   "language": "python",
   "name": "python3"
  },
  "language_info": {
   "codemirror_mode": {
    "name": "ipython",
    "version": 3
   },
   "file_extension": ".py",
   "mimetype": "text/x-python",
   "name": "python",
   "nbconvert_exporter": "python",
   "pygments_lexer": "ipython3",
   "version": "3.9.6"
  }
 },
 "nbformat": 4,
 "nbformat_minor": 5
}
